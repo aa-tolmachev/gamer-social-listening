{
 "cells": [
  {
   "cell_type": "code",
   "execution_count": null,
   "metadata": {},
   "outputs": [],
   "source": [
    "from flask import Flask\n",
    "from flask import request\n",
    "import requests\n",
    "\n",
    "import os\n",
    "import json\n",
    "from ast import literal_eval\n",
    "import traceback\n",
    "\n",
    "application = Flask(__name__)\n",
    "\n",
    "# тестовый вывод\n",
    "@application.route(\"/\")  \n",
    "def hello():\n",
    "    return \"Hello World!\"\n",
    "\n",
    "# регистрация пользователя\n",
    "# проверяем что пользователя нет, далее регистрируем\n",
    "@application.route(\"/registration\" , methods=['GET', 'POST'])  \n",
    "def external_receive():\n",
    "    response = {'message':'ok'}\n",
    "    status = 200\n",
    "    try:\n",
    "        getData = request.get_data()\n",
    "        json_params = json.loads(getData) \n",
    "        \n",
    "        print(json_params)\n",
    "    except Exception as e: \n",
    "        print(e)\n",
    "        status = 400\n",
    "        response['message'] = e\n",
    "        \n",
    "    return response , status\n",
    "        \n",
    "\n",
    "if __name__ == \"__main__\":\n",
    "    port = int(os.getenv('PORT', 5000))\n",
    "    application.run(debug=False, port=port, host='0.0.0.0' , threaded=True)\n",
    "\n",
    "\n"
   ]
  },
  {
   "cell_type": "code",
   "execution_count": null,
   "metadata": {},
   "outputs": [],
   "source": []
  }
 ],
 "metadata": {
  "kernelspec": {
   "display_name": "Python 3",
   "language": "python",
   "name": "python3"
  },
  "language_info": {
   "codemirror_mode": {
    "name": "ipython",
    "version": 3
   },
   "file_extension": ".py",
   "mimetype": "text/x-python",
   "name": "python",
   "nbconvert_exporter": "python",
   "pygments_lexer": "ipython3",
   "version": "3.7.3"
  },
  "toc": {
   "base_numbering": 1,
   "nav_menu": {},
   "number_sections": true,
   "sideBar": true,
   "skip_h1_title": false,
   "title_cell": "Table of Contents",
   "title_sidebar": "Contents",
   "toc_cell": false,
   "toc_position": {},
   "toc_section_display": true,
   "toc_window_display": false
  }
 },
 "nbformat": 4,
 "nbformat_minor": 2
}
