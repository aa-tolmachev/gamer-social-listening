{
 "cells": [
  {
   "cell_type": "code",
   "execution_count": null,
   "metadata": {},
   "outputs": [
    {
     "name": "stdout",
     "output_type": "stream",
     "text": [
      " * Serving Flask app \"__main__\" (lazy loading)\n",
      " * Environment: production\n",
      "   WARNING: This is a development server. Do not use it in a production deployment.\n",
      "   Use a production WSGI server instead.\n",
      " * Debug mode: off\n"
     ]
    },
    {
     "name": "stderr",
     "output_type": "stream",
     "text": [
      " * Running on http://0.0.0.0:5000/ (Press CTRL+C to quit)\n"
     ]
    },
    {
     "name": "stdout",
     "output_type": "stream",
     "text": [
      "{'email': 'test@mail.ru', 'expiresIn': '3600', 'idToken': 'abc', 'kind': 'aabbcc', 'localId': 'qwe', 'refreshToken': 'qazwsx'}\n"
     ]
    },
    {
     "name": "stderr",
     "output_type": "stream",
     "text": [
      "127.0.0.1 - - [02/Aug/2020 20:30:39] \"\u001b[37mPOST /registration HTTP/1.1\u001b[0m\" 200 -\n"
     ]
    }
   ],
   "source": [
    "from flask import Flask\n",
    "from flask import request\n",
    "import requests\n",
    "\n",
    "import os\n",
    "import json\n",
    "from ast import literal_eval\n",
    "import traceback\n",
    "\n",
    "from user_auth import registrationauth\n",
    "\n",
    "application = Flask(__name__)\n",
    "\n",
    "# тестовый вывод\n",
    "@application.route(\"/\")  \n",
    "def hello():\n",
    "    return \"Hello World!\"\n",
    "\n",
    "# регистрация пользователя\n",
    "# проверяем что пользователя нет, далее регистрируем\n",
    "# input\n",
    "#{\"email\":\"test@mail.ru\",\"expiresIn\":\"3600\",\"idToken\":\"abc\",\"kind\":\"aabbcc\",\"localId\":\"qwe\",\"refreshToken\":\"qazwsx\"}\n",
    "# output\n",
    "#{\"message\":\"ok\"} - \"ok\" , \"user exist\" , error text\n",
    "@application.route(\"/registration\" , methods=['GET', 'POST'])  \n",
    "def registration():\n",
    "    response = {'message':'ok'}\n",
    "    status = 200\n",
    "    try:\n",
    "        getData = request.get_data()\n",
    "        json_params = json.loads(getData) \n",
    "        print(json_params)\n",
    "\n",
    "        #регистрация пользователя\n",
    "        response = registrationauth.reg_new_user(response,json_params)\n",
    "\n",
    "        \n",
    "    except Exception as e: \n",
    "        print(e)\n",
    "        status = 400\n",
    "        response['message'] = e\n",
    "        \n",
    "    return response , status\n",
    "\n",
    "# авторизация пользователя\n",
    "# проверяем что пользователя нет, далее регистрируем\n",
    "# input\n",
    "#{\"displayName\" :\"\",  \"email\":\"test@mail.ru\",\"expiresIn\":\"3600\",\"idToken\":\"abc\",\"kind\":\"aabbcc\",\"localId\":\"qwe\",\"refreshToken\":\"qazwsx\", \"registered\":True}\n",
    "# output\n",
    "#{\"message\":\"ok\"} - \"ok\" , \"incorrect {}\" \n",
    "@application.route(\"/authorization\" , methods=['GET', 'POST'])  \n",
    "def authorization():\n",
    "    response = {'message':'ok'}\n",
    "    status = 200\n",
    "    try:\n",
    "        getData = request.get_data()\n",
    "        json_params = json.loads(getData) \n",
    "        print(json_params)\n",
    "\n",
    "        #авторизация пользователя\n",
    "        response = registrationauth.auth_user(response,json_params)\n",
    "        \n",
    "    except Exception as e: \n",
    "        print(e)\n",
    "        status = 400\n",
    "        response['message'] = e\n",
    "        \n",
    "    return response , status\n",
    "\n",
    "        \n",
    "\n",
    "if __name__ == \"__main__\":\n",
    "    port = int(os.getenv('PORT', 5000))\n",
    "    application.run(debug=False, port=port, host='0.0.0.0' , threaded=True)\n",
    "\n",
    "\n"
   ]
  },
  {
   "cell_type": "code",
   "execution_count": null,
   "metadata": {},
   "outputs": [],
   "source": [
    "from user_auth import registrationauth\n",
    "\n",
    "reg_params = {\"email\":\"test@mail.ru\",\"expiresIn\":\"3600\",\"idToken\":\"abc\",\"kind\":\"aabbcc\",\"localId\":\"qwe\",\"refreshToken\":\"qazwsx\"}\n",
    "response = {'message':'ok'}\n",
    "\n",
    "\n",
    "registrationauth.reg_new_user(response,reg_params)\n",
    "#registrationauth.is_exist(json_params)\n"
   ]
  },
  {
   "cell_type": "code",
   "execution_count": null,
   "metadata": {},
   "outputs": [],
   "source": []
  }
 ],
 "metadata": {
  "kernelspec": {
   "display_name": "Python 3",
   "language": "python",
   "name": "python3"
  },
  "language_info": {
   "codemirror_mode": {
    "name": "ipython",
    "version": 3
   },
   "file_extension": ".py",
   "mimetype": "text/x-python",
   "name": "python",
   "nbconvert_exporter": "python",
   "pygments_lexer": "ipython3",
   "version": "3.7.3"
  },
  "toc": {
   "base_numbering": 1,
   "nav_menu": {},
   "number_sections": true,
   "sideBar": true,
   "skip_h1_title": false,
   "title_cell": "Table of Contents",
   "title_sidebar": "Contents",
   "toc_cell": false,
   "toc_position": {},
   "toc_section_display": true,
   "toc_window_display": false
  }
 },
 "nbformat": 4,
 "nbformat_minor": 2
}
